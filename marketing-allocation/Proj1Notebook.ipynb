{
 "cells": [
  {
   "cell_type": "code",
   "execution_count": 1,
   "id": "be9e0692",
   "metadata": {},
   "outputs": [],
   "source": [
    "import pandas as pd\n",
    "import numpy as np\n",
    "import gurobipy as gp"
   ]
  },
  {
   "cell_type": "code",
   "execution_count": 4,
   "id": "9db7764a",
   "metadata": {},
   "outputs": [],
   "source": [
    "roi_df = pd.read_csv(r'ROI_data.csv')\n",
    "roi_df.set_index('Platform',inplace=True)\n",
    "\n",
    "roi_mo_df = pd.read_csv(r'roi_mat.csv')\n",
    "roi_mo_df.set_index('Unnamed: 0',inplace=True)\n",
    "roi_mo_df = roi_mo_df.apply(lambda x: x/100)\\\n",
    "\n",
    "total_budget_original = 10000000"
   ]
  },
  {
   "cell_type": "code",
   "execution_count": 3,
   "id": "68b1ad4f",
   "metadata": {},
   "outputs": [],
   "source": [
    "def optimize_allocation(df,estimate,budget,constraint_3=True):\n",
    "    \"\"\"\n",
    "    \n",
    "\n",
    "    Parameters\n",
    "    ----------\n",
    "    df : Dataframe\n",
    "        ROI dataframe to be used\n",
    "    estimate : integer\n",
    "        ROI estimate to be used\n",
    "    budget : integer\n",
    "        Total company budget for marketing\n",
    "    constraint_3 : boolean\n",
    "        Keep or Remove 3rd constraint, keeps 3rd constraint by default\n",
    "\n",
    "    Returns\n",
    "    -------\n",
    "    list\n",
    "        List comprising of maximum returns and allocations for different marketing mediums\n",
    "\n",
    "    \"\"\"\n",
    "    obj = np.array(df.iloc[estimate,:])\n",
    "    A = np.zeros((3,df.shape[1]))\n",
    "    A[0,:] = 1\n",
    "    for column in df.columns:\n",
    "        if column == 'Print':\n",
    "            A[1,df.columns.get_loc(column)] = 1\n",
    "        if column == 'TV':\n",
    "            A[1,df.columns.get_loc(column)] = 1\n",
    "        if column == 'SEO':\n",
    "            A[2,df.columns.get_loc(column)] = -2\n",
    "        if column == 'AdWords':\n",
    "            A[2,df.columns.get_loc(column)] = -2\n",
    "        if column == 'Facebook':\n",
    "            A[1,df.columns.get_loc(column)] = -1\n",
    "            A[2,df.columns.get_loc(column)] = 1\n",
    "        if column == 'LinkedIn':\n",
    "            A[2,df.columns.get_loc(column)] = 1\n",
    "        if column == 'Instagram':\n",
    "            A[2,df.columns.get_loc(column)] = 1\n",
    "        if column == 'Snapchat':\n",
    "            A[2,df.columns.get_loc(column)] = 1\n",
    "        if column == 'Twitter':\n",
    "            A[2,df.columns.get_loc(column)] = 1\n",
    "        if column == 'Email':\n",
    "            A[1,df.columns.get_loc(column)] = -1\n",
    "    b = np.array([budget,0,0])\n",
    "    sense = np.array(['<','<','>'])\n",
    "\n",
    "    budgetModel = gp.Model()\n",
    "    ub_constraint = np.ones(10)*3000000\n",
    "    if constraint_3 == False:\n",
    "        ub_constraint = np.ones(10)*budget\n",
    "    budgetModX = budgetModel.addMVar(df.shape[1], lb=np.zeros(10), ub=ub_constraint)\n",
    "    budgetModCon = budgetModel.addMConstr(A, budgetModX, sense, b)\n",
    "    budgetModel.setMObjective(None,obj,0,sense=gp.GRB.MAXIMIZE)\n",
    "\n",
    "    budgetModel.Params.OutputFlag = 0 # tell gurobi to shut up!!\n",
    "\n",
    "    budgetModel.optimize() # solve the LP\n",
    "    \n",
    "    constraints_sensitivity = np.zeros((3,3))\n",
    "    constraints_sensitivity[:,0] = [con.Pi for con in budgetModCon]\n",
    "    constraints_sensitivity[:,1] = [con.SARHSLow for con in budgetModCon]\n",
    "    constraints_sensitivity[:,2] = [con.SARHSUp for con in budgetModCon]\n",
    "    obj_sensitivity = np.zeros((df.shape[1],3))\n",
    "    obj_sensitivity[:,0] = budgetModX.SAObjLow\n",
    "    obj_sensitivity[:,2] = budgetModX.SAObjUp\n",
    "    obj_sensitivity[:,1] = obj\n",
    "    obj_sensitivity = obj_sensitivity.T\n",
    "\n",
    "    return [budgetModel.objVal, budgetModX.x, constraints_sensitivity, obj_sensitivity]"
   ]
  },
  {
   "cell_type": "code",
   "execution_count": 7,
   "id": "0e7cb183",
   "metadata": {},
   "outputs": [
    {
     "name": "stderr",
     "output_type": "stream",
     "text": [
      "<ipython-input-3-715e68bbbe55>:65: DeprecationWarning: setting an array element with a sequence. This was supported in some cases where the elements are arrays with a single element. For example `np.array([1, np.array([2])], dtype=int)`. In the future this will raise the same ValueError as `np.array([1, [2]], dtype=int)`.\n",
      "  constraints_sensitivity[:,0] = [con.Pi for con in budgetModCon]\n",
      "<ipython-input-3-715e68bbbe55>:66: DeprecationWarning: setting an array element with a sequence. This was supported in some cases where the elements are arrays with a single element. For example `np.array([1, np.array([2])], dtype=int)`. In the future this will raise the same ValueError as `np.array([1, [2]], dtype=int)`.\n",
      "  constraints_sensitivity[:,1] = [con.SARHSLow for con in budgetModCon]\n",
      "<ipython-input-3-715e68bbbe55>:67: DeprecationWarning: setting an array element with a sequence. This was supported in some cases where the elements are arrays with a single element. For example `np.array([1, np.array([2])], dtype=int)`. In the future this will raise the same ValueError as `np.array([1, [2]], dtype=int)`.\n",
      "  constraints_sensitivity[:,2] = [con.SARHSUp for con in budgetModCon]\n"
     ]
    },
    {
     "data": {
      "text/plain": [
       "array([      0., 3000000.,       0., 1000000.,       0.,       0.,\n",
       "       3000000.,       0.,       0., 3000000.])"
      ]
     },
     "execution_count": 7,
     "metadata": {},
     "output_type": "execute_result"
    }
   ],
   "source": [
    "max_returns, allocations, constraints, obj_sensitivity = optimize_allocation(roi_df,0,total_budget_original)\n",
    "max_returns_2, allocations_2, constraints_2, obj_sensitivity_2 = optimize_allocation(roi_df,1,total_budget_original)\n"
   ]
  },
  {
   "cell_type": "code",
   "execution_count": 25,
   "id": "f3ebe2c4",
   "metadata": {},
   "outputs": [
    {
     "data": {
      "text/plain": [
       "456000.0"
      ]
     },
     "execution_count": 25,
     "metadata": {},
     "output_type": "execute_result"
    }
   ],
   "source": [
    "allocations_1_df = roi_df.append(pd.DataFrame([allocations],columns=roi_df.columns)).iloc[2,:]\n",
    "allocations_1_df\n",
    "allocations_2_df = roi_df.append(pd.DataFrame([allocations_2],columns=roi_df.columns)).iloc[2,:]\n",
    "allocations_2_df\n",
    "max_returns_2"
   ]
  },
  {
   "cell_type": "code",
   "execution_count": 33,
   "id": "b34b4a0e",
   "metadata": {},
   "outputs": [
    {
     "name": "stderr",
     "output_type": "stream",
     "text": [
      "<ipython-input-3-715e68bbbe55>:65: DeprecationWarning: setting an array element with a sequence. This was supported in some cases where the elements are arrays with a single element. For example `np.array([1, np.array([2])], dtype=int)`. In the future this will raise the same ValueError as `np.array([1, [2]], dtype=int)`.\n",
      "  constraints_sensitivity[:,0] = [con.Pi for con in budgetModCon]\n",
      "<ipython-input-3-715e68bbbe55>:66: DeprecationWarning: setting an array element with a sequence. This was supported in some cases where the elements are arrays with a single element. For example `np.array([1, np.array([2])], dtype=int)`. In the future this will raise the same ValueError as `np.array([1, [2]], dtype=int)`.\n",
      "  constraints_sensitivity[:,1] = [con.SARHSLow for con in budgetModCon]\n",
      "<ipython-input-3-715e68bbbe55>:67: DeprecationWarning: setting an array element with a sequence. This was supported in some cases where the elements are arrays with a single element. For example `np.array([1, np.array([2])], dtype=int)`. In the future this will raise the same ValueError as `np.array([1, [2]], dtype=int)`.\n",
      "  constraints_sensitivity[:,2] = [con.SARHSUp for con in budgetModCon]\n"
     ]
    },
    {
     "data": {
      "text/html": [
       "<div>\n",
       "<style scoped>\n",
       "    .dataframe tbody tr th:only-of-type {\n",
       "        vertical-align: middle;\n",
       "    }\n",
       "\n",
       "    .dataframe tbody tr th {\n",
       "        vertical-align: top;\n",
       "    }\n",
       "\n",
       "    .dataframe thead th {\n",
       "        text-align: right;\n",
       "    }\n",
       "</style>\n",
       "<table border=\"1\" class=\"dataframe\">\n",
       "  <thead>\n",
       "    <tr style=\"text-align: right;\">\n",
       "      <th></th>\n",
       "      <th>Constraint 3</th>\n",
       "      <th>Case 1</th>\n",
       "      <th>Case 1</th>\n",
       "    </tr>\n",
       "  </thead>\n",
       "  <tbody>\n",
       "    <tr>\n",
       "      <th>0</th>\n",
       "      <td>0.0</td>\n",
       "      <td>0.0</td>\n",
       "      <td>0.0</td>\n",
       "    </tr>\n",
       "    <tr>\n",
       "      <th>1</th>\n",
       "      <td>0.0</td>\n",
       "      <td>0.0</td>\n",
       "      <td>0.0</td>\n",
       "    </tr>\n",
       "  </tbody>\n",
       "</table>\n",
       "</div>"
      ],
      "text/plain": [
       "   Constraint 3  Case 1  Case 1\n",
       "0           0.0     0.0     0.0\n",
       "1           0.0     0.0     0.0"
      ]
     },
     "execution_count": 33,
     "metadata": {},
     "output_type": "execute_result"
    }
   ],
   "source": [
    "returns_1_2 = np.matmul(allocations_2.T,np.array(roi_df.iloc[0,:]))\n",
    "returns_loss_1_2 = max_returns - returns_1_2\n",
    "returns_2_1 = np.matmul(allocations.T,np.array(roi_df.iloc[1,:]))\n",
    "returns_loss_2_1 = max_returns_2 - returns_2_1\n",
    "max_returns_no3constraint, allocations_no3constraint, constraints_no3constraint, obj_sensitivity_no3constraint = optimize_allocation(roi_df,0,total_budget_original,constraint_3=False)\n",
    "max_returns_2_no3constraint, allocations_2_no3constraint, constraints_2_no3constraint, obj_sensitivity_2_no3constraint = optimize_allocation(roi_df,1,total_budget_original,constraint_3=False)\n",
    "returns_1_2_no3constraint = np.matmul(allocations_2_no3constraint.T,np.array(roi_df.iloc[0,:]))\n",
    "returns_loss_1_2_no3constraint = max_returns_no3constraint - returns_1_2_no3constraint\n",
    "returns_2_1_no3constraint = np.matmul(allocations_no3constraint.T,np.array(roi_df.iloc[1,:]))\n",
    "returns_loss_2_1_no3constraint = max_returns_2_no3constraint - returns_2_1_no3constraint\n",
    "\n",
    "df_cost = pd.DataFrame(np.zeros((2,3)),columns=['Constraint 3','Case 1','Case 2'])\n",
    "df_cost"
   ]
  }
 ],
 "metadata": {
  "kernelspec": {
   "display_name": "Python 3",
   "language": "python",
   "name": "python3"
  },
  "language_info": {
   "codemirror_mode": {
    "name": "ipython",
    "version": 3
   },
   "file_extension": ".py",
   "mimetype": "text/x-python",
   "name": "python",
   "nbconvert_exporter": "python",
   "pygments_lexer": "ipython3",
   "version": "3.8.8"
  }
 },
 "nbformat": 4,
 "nbformat_minor": 5
}
